{
 "cells": [
  {
   "cell_type": "code",
   "execution_count": 23,
   "id": "9de76b04-17c8-432c-93a5-ffdaa3aae815",
   "metadata": {},
   "outputs": [],
   "source": [
    "#libraries\n",
    "import pandas as pd\n",
    "import numpy as np\n",
    "from sklearn.impute import KNNImputer\n",
    "from sklearn.preprocessing import RobustScaler, StandardScaler\n",
    "from sklearn.model_selection import train_test_split, StratifiedKFold, cross_val_score\n",
    "from sklearn.ensemble import RandomForestClassifier\n",
    "from xgboost import XGBClassifier\n",
    "from sklearn.metrics import accuracy_score, classification_report\n",
    "from sklearn.ensemble import IsolationForest"
   ]
  },
  {
   "cell_type": "code",
   "execution_count": 24,
   "id": "48f8585d-649e-47a1-9e39-35443f4d4866",
   "metadata": {},
   "outputs": [],
   "source": [
    "# preparing the dataset\n",
    "column_names = [\"Class\",\"Alcohol\",\"Malic acid\",\"Ash\",\"Alcalinity of ash\",\"Magnesium\",\n",
    "                \"Total phenols\",\"Flavanoids\",\"Nonflavanoid phenols\",\"Proanthocyanins\",\n",
    "                \"Color intensity\",\"Hue\",\"OD280/OD315 of diluted wines\",\"Proline\"]\n",
    "\n",
    "path = \"./wine.data\" \n",
    "df = pd.read_csv(path, names=column_names)"
   ]
  },
  {
   "cell_type": "code",
   "execution_count": 25,
   "id": "e1b0642a-0b33-40a0-acae-2f39a920237e",
   "metadata": {},
   "outputs": [],
   "source": [
    "imputer = KNNImputer(n_neighbors=5) # more naturally preserves local data instead of median.\n",
    "df.iloc[:, 1:] = imputer.fit_transform(df.iloc[:, 1:])"
   ]
  },
  {
   "cell_type": "code",
   "execution_count": 26,
   "id": "4a8dc035-ad28-44fa-8e7b-3e84014481dc",
   "metadata": {},
   "outputs": [],
   "source": [
    "#cleaning outliers values \n",
    "iso_forest = IsolationForest(contamination=0.05, random_state=42) # more flexible solution\n",
    "outliers = iso_forest.fit_predict(df.iloc[:, 1:])\n",
    "df = df[outliers == 1]  "
   ]
  },
  {
   "cell_type": "code",
   "execution_count": 27,
   "id": "8ab77376-b3fd-42a9-b4b9-04284c059b74",
   "metadata": {},
   "outputs": [],
   "source": [
    "# scaling\n",
    "scaler = StandardScaler()\n",
    "df.iloc[:, 1:] = scaler.fit_transform(df.iloc[:, 1:])"
   ]
  },
  {
   "cell_type": "code",
   "execution_count": 28,
   "id": "85a4cce0-a5c1-4f84-8666-faf77639a582",
   "metadata": {},
   "outputs": [],
   "source": [
    "X = df.iloc[:, 1:] \n",
    "y = df['Class'] - 1\n",
    "\n",
    "# splitting train-test data\n",
    "X_train, X_test, y_train, y_test = train_test_split(X, y, test_size=0.3, random_state=60, stratify=y)"
   ]
  },
  {
   "cell_type": "code",
   "execution_count": 29,
   "id": "bd666732-290f-4873-8a7f-426f6f1aec78",
   "metadata": {},
   "outputs": [],
   "source": [
    "models = {\n",
    "    \"Random Forest\": RandomForestClassifier(n_estimators=100, random_state=42), # the risk of overfitting is reduced\n",
    "    \"XGBoost\": XGBClassifier(eval_metric='mlogloss', random_state=42)\n",
    "}"
   ]
  },
  {
   "cell_type": "code",
   "execution_count": 30,
   "id": "2e11cd4d-7a0f-4ba0-a1b4-cca7cb8fed7c",
   "metadata": {},
   "outputs": [],
   "source": [
    "# validation with stratified fold\n",
    "cv = StratifiedKFold(n_splits=6, shuffle=True, random_state=42) "
   ]
  },
  {
   "cell_type": "code",
   "execution_count": 31,
   "id": "fd47229e-7b66-478f-a32c-c693f618e3ee",
   "metadata": {
    "scrolled": false
   },
   "outputs": [
    {
     "name": "stdout",
     "output_type": "stream",
     "text": [
      "\n",
      "Random Forest:\n",
      "Average CV Accuracy: 0.9833\n",
      "Test Accuracy: 0.9804\n",
      "\n",
      "XGBoost:\n",
      "Average CV Accuracy: 0.9750\n",
      "Test Accuracy: 0.9804\n"
     ]
    }
   ],
   "source": [
    "for name, model in models.items():\n",
    "    scores = cross_val_score(model, X_train, y_train, cv=cv, scoring='accuracy')\n",
    "    model.fit(X_train, y_train)\n",
    "    y_pred = model.predict(X_test)\n",
    "    \n",
    "    print(f\"\\n{name}:\")\n",
    "    print(f\"Average CV Accuracy: {scores.mean():.4f}\")\n",
    "    print(f\"Test Accuracy: {accuracy_score(y_test, y_pred):.4f}\")"
   ]
  }
 ],
 "metadata": {
  "kernelspec": {
   "display_name": "Python 3 (ipykernel)",
   "language": "python",
   "name": "python3"
  },
  "language_info": {
   "codemirror_mode": {
    "name": "ipython",
    "version": 3
   },
   "file_extension": ".py",
   "mimetype": "text/x-python",
   "name": "python",
   "nbconvert_exporter": "python",
   "pygments_lexer": "ipython3",
   "version": "3.11.5"
  }
 },
 "nbformat": 4,
 "nbformat_minor": 5
}
